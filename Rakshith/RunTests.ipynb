{
 "cells": [
  {
   "cell_type": "markdown",
   "id": "29934e3c-0eed-4a4b-881f-27765f2afb10",
   "metadata": {},
   "source": [
    "[\n",
    "# Function tests\\n\",\n",
    "    \"8 functions are defined for the \\\"MapMaker\\\" notebook. They are tested individually to determine if they work well and return the results we anticipate.\"\n",
    "   ]"
   ]
  },
  {
   "cell_type": "code",
   "execution_count": 1,
   "id": "26f9f911-c6f9-40e6-8723-bf830f82d9ee",
   "metadata": {},
   "outputs": [],
   "source": [
    "from src import my_functions"
   ]
  },
  {
   "cell_type": "code",
   "execution_count": 2,
   "id": "5b8289d8-cd7c-4d57-a8ab-70b944307608",
   "metadata": {},
   "outputs": [],
   "source": [
    "#downloading the data might take longer than expected during the time the test code is run\\n"
   ]
  },
  {
   "cell_type": "code",
   "execution_count": 3,
   "id": "6cfe09db-2e11-42e4-b538-24d519252e52",
   "metadata": {},
   "outputs": [
    {
     "name": "stdout",
     "output_type": "stream",
     "text": [
      "\u001b[1m============================= test session starts ==============================\u001b[0m\n",
      "platform linux -- Python 3.9.7, pytest-7.1.2, pluggy-1.0.0\n",
      "rootdir: /home/jupyter-u7477538/EMSC-4033-2022-assignment-Group2/Rakshith\n",
      "plugins: anyio-3.5.0\n",
      "collected 5 items                                                              \u001b[0m\u001b[1m\n",
      "\n",
      "tests/test_functions.py \u001b[32m.\u001b[0m\u001b[32m.\u001b[0m\u001b[32m.\u001b[0m\u001b[32m.\u001b[0m\u001b[32m.\u001b[0m\u001b[32m                                            [100%]\u001b[0m\n",
      "\n",
      "\u001b[32m============================== \u001b[32m\u001b[1m5 passed\u001b[0m\u001b[32m in 35.40s\u001b[0m\u001b[32m ==============================\u001b[0m\n"
     ]
    }
   ],
   "source": [
    "! pytest"
   ]
  },
  {
   "cell_type": "code",
   "execution_count": null,
   "id": "016f350e-1f57-4a99-867a-24692bbba922",
   "metadata": {},
   "outputs": [],
   "source": []
  },
  {
   "cell_type": "code",
   "execution_count": null,
   "id": "febfd81e-d353-40fd-a9ca-15bd9147c08c",
   "metadata": {},
   "outputs": [],
   "source": []
  }
 ],
 "metadata": {
  "kernelspec": {
   "display_name": "Python 3 (ipykernel)",
   "language": "python",
   "name": "python3"
  },
  "language_info": {
   "codemirror_mode": {
    "name": "ipython",
    "version": 3
   },
   "file_extension": ".py",
   "mimetype": "text/x-python",
   "name": "python",
   "nbconvert_exporter": "python",
   "pygments_lexer": "ipython3",
   "version": "3.9.7"
  }
 },
 "nbformat": 4,
 "nbformat_minor": 5
}
